{
 "cells": [
  {
   "cell_type": "code",
   "execution_count": 6,
   "metadata": {},
   "outputs": [
    {
     "name": "stdout",
     "output_type": "stream",
     "text": [
      "Class labels: [0 1 2]\n"
     ]
    }
   ],
   "source": [
    "# load datasets\n",
    ">>> from sklearn import datasets\n",
    ">>> import numpy as np\n",
    ">>> iris = datasets.load_iris()\n",
    ">>> X = iris.data[:, [0,1,2,3]]\n",
    ">>> y = iris.target\n",
    ">>> print('Class labels:', np.unique(y))"
   ]
  },
  {
   "cell_type": "code",
   "execution_count": 7,
   "metadata": {
    "collapsed": true
   },
   "outputs": [],
   "source": [
    "# splitting and standardizing the data\n",
    ">>> from sklearn.model_selection import train_test_split\n",
    ">>> X_train, X_test, y_train, y_test = train_test_split(X, y, test_size=0.3, random_state=1, stratify=y)\n",
    "\n",
    ">>> from sklearn.preprocessing import StandardScaler\n",
    ">>> sc = StandardScaler()\n",
    ">>> sc.fit(X_train)\n",
    ">>> X_train_std = sc.transform(X_train)\n",
    ">>> X_test_std = sc.transform(X_test)"
   ]
  },
  {
   "cell_type": "code",
   "execution_count": 8,
   "metadata": {},
   "outputs": [
    {
     "name": "stdout",
     "output_type": "stream",
     "text": [
      "train accuracy: 1.00\n",
      "test accuracy: 0.98\n",
      "[[35  0  0]\n",
      " [ 0 35  0]\n",
      " [ 0  0 35]]\n",
      "[[15  0  0]\n",
      " [ 0 15  0]\n",
      " [ 0  1 14]]\n"
     ]
    }
   ],
   "source": [
    "# creating decision tree classifier and training the data\n",
    ">>> from sklearn.tree import DecisionTreeClassifier\n",
    ">>> tree = DecisionTreeClassifier( random_state=1)\n",
    ">>> tree.fit(X_train_std, y_train)\n",
    "\n",
    ">>> y_pred_1= tree.predict(X_train_std)\n",
    ">>> y_pred_2 = tree.predict(X_test_std)\n",
    ">>> from sklearn.metrics import accuracy_score\n",
    ">>> print('train accuracy: %.2f' % accuracy_score(y_train, y_pred_1))\n",
    ">>> print('test accuracy: %.2f' % accuracy_score(y_test,y_pred_2))\n",
    ">>> from sklearn.metrics import confusion_matrix\n",
    ">>> CM_1 = confusion_matrix(y_train,y_pred_1)\n",
    ">>> print(CM_1)\n",
    ">>> CM_2 = confusion_matrix(y_test,y_pred_2)\n",
    ">>> print(CM_2)"
   ]
  },
  {
   "cell_type": "code",
   "execution_count": 9,
   "metadata": {},
   "outputs": [
    {
     "ename": "ModuleNotFoundError",
     "evalue": "No module named 'pydotplus'",
     "output_type": "error",
     "traceback": [
      "\u001b[0;31m---------------------------------------------------------------------------\u001b[0m",
      "\u001b[0;31mModuleNotFoundError\u001b[0m                       Traceback (most recent call last)",
      "\u001b[0;32m<ipython-input-9-6b204756897e>\u001b[0m in \u001b[0;36m<module>\u001b[0;34m()\u001b[0m\n\u001b[1;32m      1\u001b[0m \u001b[0;31m# visualizing the decision tree\u001b[0m\u001b[0;34m\u001b[0m\u001b[0;34m\u001b[0m\u001b[0m\n\u001b[1;32m      2\u001b[0m \u001b[0;32mfrom\u001b[0m \u001b[0mIPython\u001b[0m\u001b[0;34m.\u001b[0m\u001b[0mdisplay\u001b[0m \u001b[0;32mimport\u001b[0m \u001b[0mImage\u001b[0m\u001b[0;34m\u001b[0m\u001b[0m\n\u001b[0;32m----> 3\u001b[0;31m \u001b[0;32mimport\u001b[0m \u001b[0mpydotplus\u001b[0m\u001b[0;34m\u001b[0m\u001b[0m\n\u001b[0m\u001b[1;32m      4\u001b[0m \u001b[0;34m\u001b[0m\u001b[0m\n\u001b[1;32m      5\u001b[0m \u001b[0;32mfrom\u001b[0m \u001b[0msklearn\u001b[0m\u001b[0;34m.\u001b[0m\u001b[0mtree\u001b[0m \u001b[0;32mimport\u001b[0m \u001b[0mexport_graphviz\u001b[0m\u001b[0;34m\u001b[0m\u001b[0m\n",
      "\u001b[0;31mModuleNotFoundError\u001b[0m: No module named 'pydotplus'"
     ]
    }
   ],
   "source": [
    "# visualizing the decision tree \n",
    ">>> from IPython.display import Image \n",
    ">>> import pydotplus \n",
    "\n",
    ">>> from sklearn.tree import export_graphviz\n",
    ">>> dot_data = export_graphviz(tree,\n",
    "...                            filled=True, \n",
    "...                            rounded=True,\n",
    "...                            class_names=['Setosa', \n",
    "...                                         'Versicolor',\n",
    "...                                         'Virginica'],\n",
    "...                            feature_names=['sepal length','sepal width ','petal length', \n",
    "...                                           'petal width'],\n",
    "...                            out_file=None) \n",
    ">>> graph = pydotplus.graph_from_dot_data(dot_data) \n",
    ">>> Image(graph.create_png())"
   ]
  },
  {
   "cell_type": "code",
   "execution_count": 12,
   "metadata": {},
   "outputs": [
    {
     "name": "stdout",
     "output_type": "stream",
     "text": [
      "train accuracy: 0.67\n",
      "test accuracy: 0.67\n",
      "[[35  0  0]\n",
      " [ 0 35  0]\n",
      " [ 0 35  0]]\n",
      "[[15  0  0]\n",
      " [ 0 15  0]\n",
      " [ 0 15  0]]\n"
     ]
    }
   ],
   "source": [
    "# creating decision tree classifier for gini impurity with depth of 1 and training the data\n",
    ">>> from sklearn.tree import DecisionTreeClassifier\n",
    ">>> tree = DecisionTreeClassifier(criterion='gini',max_depth=1,random_state=1)\n",
    ">>> tree.fit(X_train_std, y_train)\n",
    "\n",
    ">>> y_pred_1= tree.predict(X_train_std)\n",
    ">>> y_pred_2 = tree.predict(X_test_std)\n",
    ">>> from sklearn.metrics import accuracy_score\n",
    ">>> print('train accuracy: %.2f' % accuracy_score(y_train, y_pred_1))\n",
    ">>> print('test accuracy: %.2f' % accuracy_score(y_test,y_pred_2))\n",
    ">>> from sklearn.metrics import confusion_matrix\n",
    ">>> CM_1 = confusion_matrix(y_train,y_pred_1)\n",
    ">>> print(CM_1)\n",
    ">>> CM_2 = confusion_matrix(y_test,y_pred_2)\n",
    ">>> print(CM_2)"
   ]
  },
  {
   "cell_type": "code",
   "execution_count": null,
   "metadata": {
    "collapsed": true
   },
   "outputs": [],
   "source": [
    "# visualizing the decision tree \n",
    ">>> from IPython.display import Image \n",
    ">>> import pydotplus \n",
    "\n",
    ">>> from sklearn.tree import export_graphviz\n",
    ">>> dot_data = export_graphviz(tree,\n",
    "...                            filled=True, \n",
    "...                            rounded=True,\n",
    "...                            class_names=['Setosa', \n",
    "...                                         'Versicolor',\n",
    "...                                         'Virginica'],\n",
    "...                            feature_names=['sepal length','sepal width ','petal length', \n",
    "...                                           'petal width'],\n",
    "...                            out_file=None) \n",
    ">>> graph = pydotplus.graph_from_dot_data(dot_data) \n",
    ">>> Image(graph.create_png())"
   ]
  },
  {
   "cell_type": "code",
   "execution_count": 13,
   "metadata": {},
   "outputs": [
    {
     "name": "stdout",
     "output_type": "stream",
     "text": [
      "train accuracy: 0.95\n",
      "test accuracy: 0.96\n",
      "[[35  0  0]\n",
      " [ 0 30  5]\n",
      " [ 0  0 35]]\n",
      "[[15  0  0]\n",
      " [ 0 14  1]\n",
      " [ 0  1 14]]\n"
     ]
    }
   ],
   "source": [
    "# creating decision tree classifier for gini impurity with depth of 2 and training the data\n",
    ">>> from sklearn.tree import DecisionTreeClassifier\n",
    ">>> tree = DecisionTreeClassifier(criterion='gini',max_depth=2,random_state=1)\n",
    ">>> tree.fit(X_train_std, y_train)\n",
    "\n",
    ">>> y_pred_1= tree.predict(X_train_std)\n",
    ">>> y_pred_2 = tree.predict(X_test_std)\n",
    ">>> from sklearn.metrics import accuracy_score\n",
    ">>> print('train accuracy: %.2f' % accuracy_score(y_train, y_pred_1))\n",
    ">>> print('test accuracy: %.2f' % accuracy_score(y_test,y_pred_2))\n",
    ">>> from sklearn.metrics import confusion_matrix\n",
    ">>> CM_1 = confusion_matrix(y_train,y_pred_1)\n",
    ">>> print(CM_1)\n",
    ">>> CM_2 = confusion_matrix(y_test,y_pred_2)\n",
    ">>> print(CM_2)"
   ]
  },
  {
   "cell_type": "code",
   "execution_count": null,
   "metadata": {
    "collapsed": true
   },
   "outputs": [],
   "source": [
    "# visualizing the decision tree \n",
    ">>> from IPython.display import Image \n",
    ">>> import pydotplus \n",
    "\n",
    ">>> from sklearn.tree import export_graphviz\n",
    ">>> dot_data = export_graphviz(tree,\n",
    "...                            filled=True, \n",
    "...                            rounded=True,\n",
    "...                            class_names=['Setosa', \n",
    "...                                         'Versicolor',\n",
    "...                                         'Virginica'],\n",
    "...                            feature_names=['sepal length','sepal width ','petal length', \n",
    "...                                           'petal width'],\n",
    "...                            out_file=None) \n",
    ">>> graph = pydotplus.graph_from_dot_data(dot_data) \n",
    ">>> Image(graph.create_png())"
   ]
  },
  {
   "cell_type": "code",
   "execution_count": 14,
   "metadata": {},
   "outputs": [
    {
     "name": "stdout",
     "output_type": "stream",
     "text": [
      "train accuracy: 0.95\n",
      "test accuracy: 0.98\n",
      "[[35  0  0]\n",
      " [ 0 34  1]\n",
      " [ 0  4 31]]\n",
      "[[15  0  0]\n",
      " [ 0 15  0]\n",
      " [ 0  1 14]]\n"
     ]
    }
   ],
   "source": [
    "# creating decision tree classifier for gini impurity with depth of 3 and training the data\n",
    ">>> from sklearn.tree import DecisionTreeClassifier\n",
    ">>> tree = DecisionTreeClassifier(criterion='gini',max_depth=3,random_state=1)\n",
    ">>> tree.fit(X_train_std, y_train)\n",
    "\n",
    ">>> y_pred_1= tree.predict(X_train_std)\n",
    ">>> y_pred_2 = tree.predict(X_test_std)\n",
    ">>> from sklearn.metrics import accuracy_score\n",
    ">>> print('train accuracy: %.2f' % accuracy_score(y_train, y_pred_1))\n",
    ">>> print('test accuracy: %.2f' % accuracy_score(y_test,y_pred_2))\n",
    ">>> from sklearn.metrics import confusion_matrix\n",
    ">>> CM_1 = confusion_matrix(y_train,y_pred_1)\n",
    ">>> print(CM_1)\n",
    ">>> CM_2 = confusion_matrix(y_test,y_pred_2)\n",
    ">>> print(CM_2)"
   ]
  },
  {
   "cell_type": "code",
   "execution_count": null,
   "metadata": {
    "collapsed": true
   },
   "outputs": [],
   "source": [
    "# visualizing the decision tree \n",
    ">>> from IPython.display import Image \n",
    ">>> import pydotplus \n",
    "\n",
    ">>> from sklearn.tree import export_graphviz\n",
    ">>> dot_data = export_graphviz(tree,\n",
    "...                            filled=True, \n",
    "...                            rounded=True,\n",
    "...                            class_names=['Setosa', \n",
    "...                                         'Versicolor',\n",
    "...                                         'Virginica'],\n",
    "...                            feature_names=['sepal length','sepal width ','petal length', \n",
    "...                                           'petal width'],\n",
    "...                            out_file=None) \n",
    ">>> graph = pydotplus.graph_from_dot_data(dot_data) \n",
    ">>> Image(graph.create_png())"
   ]
  },
  {
   "cell_type": "code",
   "execution_count": 15,
   "metadata": {},
   "outputs": [
    {
     "name": "stdout",
     "output_type": "stream",
     "text": [
      "train accuracy: 0.97\n",
      "test accuracy: 0.98\n",
      "[[35  0  0]\n",
      " [ 0 32  3]\n",
      " [ 0  0 35]]\n",
      "[[15  0  0]\n",
      " [ 0 15  0]\n",
      " [ 0  1 14]]\n"
     ]
    }
   ],
   "source": [
    "# creating decision tree classifier for gini impurity with depth of 4 and training the data\n",
    ">>> from sklearn.tree import DecisionTreeClassifier\n",
    ">>> tree = DecisionTreeClassifier(criterion='gini',max_depth=4,random_state=1)\n",
    ">>> tree.fit(X_train_std, y_train)\n",
    "\n",
    ">>> y_pred_1= tree.predict(X_train_std)\n",
    ">>> y_pred_2 = tree.predict(X_test_std)\n",
    ">>> from sklearn.metrics import accuracy_score\n",
    ">>> print('train accuracy: %.2f' % accuracy_score(y_train, y_pred_1))\n",
    ">>> print('test accuracy: %.2f' % accuracy_score(y_test,y_pred_2))\n",
    ">>> from sklearn.metrics import confusion_matrix\n",
    ">>> CM_1 = confusion_matrix(y_train,y_pred_1)\n",
    ">>> print(CM_1)\n",
    ">>> CM_2 = confusion_matrix(y_test,y_pred_2)\n",
    ">>> print(CM_2)"
   ]
  },
  {
   "cell_type": "code",
   "execution_count": 11,
   "metadata": {},
   "outputs": [
    {
     "ename": "ModuleNotFoundError",
     "evalue": "No module named 'pydotplus'",
     "output_type": "error",
     "traceback": [
      "\u001b[0;31m---------------------------------------------------------------------------\u001b[0m",
      "\u001b[0;31mModuleNotFoundError\u001b[0m                       Traceback (most recent call last)",
      "\u001b[0;32m<ipython-input-11-6b204756897e>\u001b[0m in \u001b[0;36m<module>\u001b[0;34m()\u001b[0m\n\u001b[1;32m      1\u001b[0m \u001b[0;31m# visualizing the decision tree\u001b[0m\u001b[0;34m\u001b[0m\u001b[0;34m\u001b[0m\u001b[0m\n\u001b[1;32m      2\u001b[0m \u001b[0;32mfrom\u001b[0m \u001b[0mIPython\u001b[0m\u001b[0;34m.\u001b[0m\u001b[0mdisplay\u001b[0m \u001b[0;32mimport\u001b[0m \u001b[0mImage\u001b[0m\u001b[0;34m\u001b[0m\u001b[0m\n\u001b[0;32m----> 3\u001b[0;31m \u001b[0;32mimport\u001b[0m \u001b[0mpydotplus\u001b[0m\u001b[0;34m\u001b[0m\u001b[0m\n\u001b[0m\u001b[1;32m      4\u001b[0m \u001b[0;34m\u001b[0m\u001b[0m\n\u001b[1;32m      5\u001b[0m \u001b[0;32mfrom\u001b[0m \u001b[0msklearn\u001b[0m\u001b[0;34m.\u001b[0m\u001b[0mtree\u001b[0m \u001b[0;32mimport\u001b[0m \u001b[0mexport_graphviz\u001b[0m\u001b[0;34m\u001b[0m\u001b[0m\n",
      "\u001b[0;31mModuleNotFoundError\u001b[0m: No module named 'pydotplus'"
     ]
    }
   ],
   "source": [
    "# visualizing the decision tree \n",
    ">>> from IPython.display import Image \n",
    ">>> import pydotplus \n",
    "\n",
    ">>> from sklearn.tree import export_graphviz\n",
    ">>> dot_data = export_graphviz(tree,\n",
    "...                            filled=True, \n",
    "...                            rounded=True,\n",
    "...                            class_names=['Setosa', \n",
    "...                                         'Versicolor',\n",
    "...                                         'Virginica'],\n",
    "...                            feature_names=['sepal length','sepal width ','petal length', \n",
    "...                                           'petal width'],\n",
    "...                            out_file=None) \n",
    ">>> graph = pydotplus.graph_from_dot_data(dot_data) \n",
    ">>> Image(graph.create_png())"
   ]
  },
  {
   "cell_type": "code",
   "execution_count": 16,
   "metadata": {},
   "outputs": [
    {
     "name": "stdout",
     "output_type": "stream",
     "text": [
      "train accuracy: 0.99\n",
      "test accuracy: 0.98\n",
      "[[35  0  0]\n",
      " [ 0 35  0]\n",
      " [ 0  1 34]]\n",
      "[[15  0  0]\n",
      " [ 0 15  0]\n",
      " [ 0  1 14]]\n"
     ]
    }
   ],
   "source": [
    "# creating decision tree classifier for gini impurity with depth of 5 and training the data\n",
    ">>> from sklearn.tree import DecisionTreeClassifier\n",
    ">>> tree = DecisionTreeClassifier(criterion='gini',max_depth=5,random_state=1)\n",
    ">>> tree.fit(X_train_std, y_train)\n",
    "\n",
    ">>> y_pred_1= tree.predict(X_train_std)\n",
    ">>> y_pred_2 = tree.predict(X_test_std)\n",
    ">>> from sklearn.metrics import accuracy_score\n",
    ">>> print('train accuracy: %.2f' % accuracy_score(y_train, y_pred_1))\n",
    ">>> print('test accuracy: %.2f' % accuracy_score(y_test,y_pred_2))\n",
    ">>> from sklearn.metrics import confusion_matrix\n",
    ">>> CM_1 = confusion_matrix(y_train,y_pred_1)\n",
    ">>> print(CM_1)\n",
    ">>> CM_2 = confusion_matrix(y_test,y_pred_2)\n",
    ">>> print(CM_2)"
   ]
  },
  {
   "cell_type": "code",
   "execution_count": null,
   "metadata": {
    "collapsed": true
   },
   "outputs": [],
   "source": [
    "# visualizing the decision tree \n",
    ">>> from IPython.display import Image \n",
    ">>> import pydotplus \n",
    "\n",
    ">>> from sklearn.tree import export_graphviz\n",
    ">>> dot_data = export_graphviz(tree,\n",
    "...                            filled=True, \n",
    "...                            rounded=True,\n",
    "...                            class_names=['Setosa', \n",
    "...                                         'Versicolor',\n",
    "...                                         'Virginica'],\n",
    "...                            feature_names=['sepal length','sepal width ','petal length', \n",
    "...                                           'petal width'],\n",
    "...                            out_file=None) \n",
    ">>> graph = pydotplus.graph_from_dot_data(dot_data) \n",
    ">>> Image(graph.create_png())"
   ]
  },
  {
   "cell_type": "code",
   "execution_count": 17,
   "metadata": {},
   "outputs": [
    {
     "name": "stdout",
     "output_type": "stream",
     "text": [
      "train accuracy: 1.00\n",
      "test accuracy: 0.98\n",
      "[[35  0  0]\n",
      " [ 0 35  0]\n",
      " [ 0  0 35]]\n",
      "[[15  0  0]\n",
      " [ 0 15  0]\n",
      " [ 0  1 14]]\n"
     ]
    }
   ],
   "source": [
    "# creating decision tree classifier for gini impurity with depth of 6 and training the data\n",
    ">>> from sklearn.tree import DecisionTreeClassifier\n",
    ">>> tree = DecisionTreeClassifier(criterion='gini',max_depth=6,random_state=1)\n",
    ">>> tree.fit(X_train_std, y_train)\n",
    "\n",
    ">>> y_pred_1= tree.predict(X_train_std)\n",
    ">>> y_pred_2 = tree.predict(X_test_std)\n",
    ">>> from sklearn.metrics import accuracy_score\n",
    ">>> print('train accuracy: %.2f' % accuracy_score(y_train, y_pred_1))\n",
    ">>> print('test accuracy: %.2f' % accuracy_score(y_test,y_pred_2))\n",
    ">>> from sklearn.metrics import confusion_matrix\n",
    ">>> CM_1 = confusion_matrix(y_train,y_pred_1)\n",
    ">>> print(CM_1)\n",
    ">>> CM_2 = confusion_matrix(y_test,y_pred_2)\n",
    ">>> print(CM_2)"
   ]
  },
  {
   "cell_type": "code",
   "execution_count": null,
   "metadata": {
    "collapsed": true
   },
   "outputs": [],
   "source": [
    "# visualizing the decision tree \n",
    ">>> from IPython.display import Image \n",
    ">>> import pydotplus \n",
    "\n",
    ">>> from sklearn.tree import export_graphviz\n",
    ">>> dot_data = export_graphviz(tree,\n",
    "...                            filled=True, \n",
    "...                            rounded=True,\n",
    "...                            class_names=['Setosa', \n",
    "...                                         'Versicolor',\n",
    "...                                         'Virginica'],\n",
    "...                            feature_names=['sepal length','sepal width ','petal length', \n",
    "...                                           'petal width'],\n",
    "...                            out_file=None) \n",
    ">>> graph = pydotplus.graph_from_dot_data(dot_data) \n",
    ">>> Image(graph.create_png())"
   ]
  },
  {
   "cell_type": "code",
   "execution_count": 18,
   "metadata": {},
   "outputs": [
    {
     "name": "stdout",
     "output_type": "stream",
     "text": [
      "train accuracy: 0.67\n",
      "test accuracy: 0.67\n",
      "[[35  0  0]\n",
      " [ 0 35  0]\n",
      " [ 0 35  0]]\n",
      "[[15  0  0]\n",
      " [ 0 15  0]\n",
      " [ 0 15  0]]\n"
     ]
    }
   ],
   "source": [
    "# creating decision tree classifier for entropy impurity with depth of 1 and training the data\n",
    ">>> from sklearn.tree import DecisionTreeClassifier\n",
    ">>> tree = DecisionTreeClassifier(criterion='entropy',max_depth=1,random_state=1)\n",
    ">>> tree.fit(X_train_std, y_train)\n",
    "\n",
    ">>> y_pred_1= tree.predict(X_train_std)\n",
    ">>> y_pred_2 = tree.predict(X_test_std)\n",
    ">>> from sklearn.metrics import accuracy_score\n",
    ">>> print('train accuracy: %.2f' % accuracy_score(y_train, y_pred_1))\n",
    ">>> print('test accuracy: %.2f' % accuracy_score(y_test,y_pred_2))\n",
    ">>> from sklearn.metrics import confusion_matrix\n",
    ">>> CM_1 = confusion_matrix(y_train,y_pred_1)\n",
    ">>> print(CM_1)\n",
    ">>> CM_2 = confusion_matrix(y_test,y_pred_2)\n",
    ">>> print(CM_2)"
   ]
  },
  {
   "cell_type": "code",
   "execution_count": null,
   "metadata": {
    "collapsed": true
   },
   "outputs": [],
   "source": [
    "# visualizing the decision tree \n",
    ">>> from IPython.display import Image \n",
    ">>> import pydotplus \n",
    "\n",
    ">>> from sklearn.tree import export_graphviz\n",
    ">>> dot_data = export_graphviz(tree,\n",
    "...                            filled=True, \n",
    "...                            rounded=True,\n",
    "...                            class_names=['Setosa', \n",
    "...                                         'Versicolor',\n",
    "...                                         'Virginica'],\n",
    "...                            feature_names=['sepal length','sepal width ','petal length', \n",
    "...                                           'petal width'],\n",
    "...                            out_file=None) \n",
    ">>> graph = pydotplus.graph_from_dot_data(dot_data) \n",
    ">>> Image(graph.create_png())"
   ]
  },
  {
   "cell_type": "code",
   "execution_count": 19,
   "metadata": {},
   "outputs": [
    {
     "name": "stdout",
     "output_type": "stream",
     "text": [
      "train accuracy: 0.95\n",
      "test accuracy: 0.96\n",
      "[[35  0  0]\n",
      " [ 0 30  5]\n",
      " [ 0  0 35]]\n",
      "[[15  0  0]\n",
      " [ 0 14  1]\n",
      " [ 0  1 14]]\n"
     ]
    }
   ],
   "source": [
    "# creating decision tree classifier for entropy impurity with depth of 2 and training the data\n",
    ">>> from sklearn.tree import DecisionTreeClassifier\n",
    ">>> tree = DecisionTreeClassifier(criterion='entropy',max_depth=2,random_state=1)\n",
    ">>> tree.fit(X_train_std, y_train)\n",
    "\n",
    ">>> y_pred_1= tree.predict(X_train_std)\n",
    ">>> y_pred_2 = tree.predict(X_test_std)\n",
    ">>> from sklearn.metrics import accuracy_score\n",
    ">>> print('train accuracy: %.2f' % accuracy_score(y_train, y_pred_1))\n",
    ">>> print('test accuracy: %.2f' % accuracy_score(y_test,y_pred_2))\n",
    ">>> from sklearn.metrics import confusion_matrix\n",
    ">>> CM_1 = confusion_matrix(y_train,y_pred_1)\n",
    ">>> print(CM_1)\n",
    ">>> CM_2 = confusion_matrix(y_test,y_pred_2)\n",
    ">>> print(CM_2)"
   ]
  },
  {
   "cell_type": "code",
   "execution_count": null,
   "metadata": {
    "collapsed": true
   },
   "outputs": [],
   "source": [
    "# visualizing the decision tree \n",
    ">>> from IPython.display import Image \n",
    ">>> import pydotplus \n",
    "\n",
    ">>> from sklearn.tree import export_graphviz\n",
    ">>> dot_data = export_graphviz(tree,\n",
    "...                            filled=True, \n",
    "...                            rounded=True,\n",
    "...                            class_names=['Setosa', \n",
    "...                                         'Versicolor',\n",
    "...                                         'Virginica'],\n",
    "...                            feature_names=['sepal length','sepal width ','petal length', \n",
    "...                                           'petal width'],\n",
    "...                            out_file=None) \n",
    ">>> graph = pydotplus.graph_from_dot_data(dot_data) \n",
    ">>> Image(graph.create_png())"
   ]
  },
  {
   "cell_type": "code",
   "execution_count": 20,
   "metadata": {},
   "outputs": [
    {
     "name": "stdout",
     "output_type": "stream",
     "text": [
      "train accuracy: 0.95\n",
      "test accuracy: 0.96\n",
      "[[35  0  0]\n",
      " [ 0 30  5]\n",
      " [ 0  0 35]]\n",
      "[[15  0  0]\n",
      " [ 0 14  1]\n",
      " [ 0  1 14]]\n"
     ]
    }
   ],
   "source": [
    "# creating decision tree classifier for entropy impurity with depth of 3 and training the data\n",
    ">>> from sklearn.tree import DecisionTreeClassifier\n",
    ">>> tree = DecisionTreeClassifier(criterion='entropy',max_depth=3,random_state=1)\n",
    ">>> tree.fit(X_train_std, y_train)\n",
    "\n",
    ">>> y_pred_1= tree.predict(X_train_std)\n",
    ">>> y_pred_2 = tree.predict(X_test_std)\n",
    ">>> from sklearn.metrics import accuracy_score\n",
    ">>> print('train accuracy: %.2f' % accuracy_score(y_train, y_pred_1))\n",
    ">>> print('test accuracy: %.2f' % accuracy_score(y_test,y_pred_2))\n",
    ">>> from sklearn.metrics import confusion_matrix\n",
    ">>> CM_1 = confusion_matrix(y_train,y_pred_1)\n",
    ">>> print(CM_1)\n",
    ">>> CM_2 = confusion_matrix(y_test,y_pred_2)\n",
    ">>> print(CM_2)"
   ]
  },
  {
   "cell_type": "code",
   "execution_count": null,
   "metadata": {
    "collapsed": true
   },
   "outputs": [],
   "source": [
    "# visualizing the decision tree \n",
    ">>> from IPython.display import Image \n",
    ">>> import pydotplus \n",
    "\n",
    ">>> from sklearn.tree import export_graphviz\n",
    ">>> dot_data = export_graphviz(tree,\n",
    "...                            filled=True, \n",
    "...                            rounded=True,\n",
    "...                            class_names=['Setosa', \n",
    "...                                         'Versicolor',\n",
    "...                                         'Virginica'],\n",
    "...                            feature_names=['sepal length','sepal width ','petal length', \n",
    "...                                           'petal width'],\n",
    "...                            out_file=None) \n",
    ">>> graph = pydotplus.graph_from_dot_data(dot_data) \n",
    ">>> Image(graph.create_png())"
   ]
  },
  {
   "cell_type": "code",
   "execution_count": 21,
   "metadata": {},
   "outputs": [
    {
     "name": "stdout",
     "output_type": "stream",
     "text": [
      "train accuracy: 0.95\n",
      "test accuracy: 0.93\n",
      "[[35  0  0]\n",
      " [ 0 35  0]\n",
      " [ 0  5 30]]\n",
      "[[15  0  0]\n",
      " [ 0 15  0]\n",
      " [ 0  3 12]]\n"
     ]
    }
   ],
   "source": [
    "# creating decision tree classifier for entropy impurity with depth of 4 and training the data\n",
    ">>> from sklearn.tree import DecisionTreeClassifier\n",
    ">>> tree = DecisionTreeClassifier(criterion='entropy',max_depth=4,random_state=1)\n",
    ">>> tree.fit(X_train_std, y_train)\n",
    "\n",
    ">>> y_pred_1= tree.predict(X_train_std)\n",
    ">>> y_pred_2 = tree.predict(X_test_std)\n",
    ">>> from sklearn.metrics import accuracy_score\n",
    ">>> print('train accuracy: %.2f' % accuracy_score(y_train, y_pred_1))\n",
    ">>> print('test accuracy: %.2f' % accuracy_score(y_test,y_pred_2))\n",
    ">>> from sklearn.metrics import confusion_matrix\n",
    ">>> CM_1 = confusion_matrix(y_train,y_pred_1)\n",
    ">>> print(CM_1)\n",
    ">>> CM_2 = confusion_matrix(y_test,y_pred_2)\n",
    ">>> print(CM_2)"
   ]
  },
  {
   "cell_type": "code",
   "execution_count": null,
   "metadata": {
    "collapsed": true
   },
   "outputs": [],
   "source": [
    "# visualizing the decision tree \n",
    ">>> from IPython.display import Image \n",
    ">>> import pydotplus \n",
    "\n",
    ">>> from sklearn.tree import export_graphviz\n",
    ">>> dot_data = export_graphviz(tree,\n",
    "...                            filled=True, \n",
    "...                            rounded=True,\n",
    "...                            class_names=['Setosa', \n",
    "...                                         'Versicolor',\n",
    "...                                         'Virginica'],\n",
    "...                            feature_names=['sepal length','sepal width ','petal length', \n",
    "...                                           'petal width'],\n",
    "...                            out_file=None) \n",
    ">>> graph = pydotplus.graph_from_dot_data(dot_data) \n",
    ">>> Image(graph.create_png())"
   ]
  },
  {
   "cell_type": "code",
   "execution_count": 22,
   "metadata": {},
   "outputs": [
    {
     "name": "stdout",
     "output_type": "stream",
     "text": [
      "train accuracy: 0.97\n",
      "test accuracy: 0.98\n",
      "[[35  0  0]\n",
      " [ 0 32  3]\n",
      " [ 0  0 35]]\n",
      "[[15  0  0]\n",
      " [ 0 15  0]\n",
      " [ 0  1 14]]\n"
     ]
    }
   ],
   "source": [
    "# creating decision tree classifier for entropy impurity with depth of 5 and training the data\n",
    ">>> from sklearn.tree import DecisionTreeClassifier\n",
    ">>> tree = DecisionTreeClassifier(criterion='entropy',max_depth=5,random_state=1)\n",
    ">>> tree.fit(X_train_std, y_train)\n",
    "\n",
    ">>> y_pred_1= tree.predict(X_train_std)\n",
    ">>> y_pred_2 = tree.predict(X_test_std)\n",
    ">>> from sklearn.metrics import accuracy_score\n",
    ">>> print('train accuracy: %.2f' % accuracy_score(y_train, y_pred_1))\n",
    ">>> print('test accuracy: %.2f' % accuracy_score(y_test,y_pred_2))\n",
    ">>> from sklearn.metrics import confusion_matrix\n",
    ">>> CM_1 = confusion_matrix(y_train,y_pred_1)\n",
    ">>> print(CM_1)\n",
    ">>> CM_2 = confusion_matrix(y_test,y_pred_2)\n",
    ">>> print(CM_2)"
   ]
  },
  {
   "cell_type": "code",
   "execution_count": null,
   "metadata": {
    "collapsed": true
   },
   "outputs": [],
   "source": [
    "# visualizing the decision tree \n",
    ">>> from IPython.display import Image \n",
    ">>> import pydotplus \n",
    "\n",
    ">>> from sklearn.tree import export_graphviz\n",
    ">>> dot_data = export_graphviz(tree,\n",
    "...                            filled=True, \n",
    "...                            rounded=True,\n",
    "...                            class_names=['Setosa', \n",
    "...                                         'Versicolor',\n",
    "...                                         'Virginica'],\n",
    "...                            feature_names=['sepal length','sepal width ','petal length', \n",
    "...                                           'petal width'],\n",
    "...                            out_file=None) \n",
    ">>> graph = pydotplus.graph_from_dot_data(dot_data) \n",
    ">>> Image(graph.create_png())"
   ]
  },
  {
   "cell_type": "code",
   "execution_count": 23,
   "metadata": {},
   "outputs": [
    {
     "name": "stdout",
     "output_type": "stream",
     "text": [
      "train accuracy: 0.98\n",
      "test accuracy: 0.98\n",
      "[[35  0  0]\n",
      " [ 0 33  2]\n",
      " [ 0  0 35]]\n",
      "[[15  0  0]\n",
      " [ 0 15  0]\n",
      " [ 0  1 14]]\n"
     ]
    }
   ],
   "source": [
    "# creating decision tree classifier for entropy impurity with depth of 6 and training the data\n",
    ">>> from sklearn.tree import DecisionTreeClassifier\n",
    ">>> tree = DecisionTreeClassifier(criterion='entropy',max_depth=6,random_state=1)\n",
    ">>> tree.fit(X_train_std, y_train)\n",
    "\n",
    ">>> y_pred_1= tree.predict(X_train_std)\n",
    ">>> y_pred_2 = tree.predict(X_test_std)\n",
    ">>> from sklearn.metrics import accuracy_score\n",
    ">>> print('train accuracy: %.2f' % accuracy_score(y_train, y_pred_1))\n",
    ">>> print('test accuracy: %.2f' % accuracy_score(y_test,y_pred_2))\n",
    ">>> from sklearn.metrics import confusion_matrix\n",
    ">>> CM_1 = confusion_matrix(y_train,y_pred_1)\n",
    ">>> print(CM_1)\n",
    ">>> CM_2 = confusion_matrix(y_test,y_pred_2)\n",
    ">>> print(CM_2)"
   ]
  },
  {
   "cell_type": "code",
   "execution_count": null,
   "metadata": {
    "collapsed": true
   },
   "outputs": [],
   "source": [
    "# visualizing the decision tree \n",
    ">>> from IPython.display import Image \n",
    ">>> import pydotplus \n",
    "\n",
    ">>> from sklearn.tree import export_graphviz\n",
    ">>> dot_data = export_graphviz(tree,\n",
    "...                            filled=True, \n",
    "...                            rounded=True,\n",
    "...                            class_names=['Setosa', \n",
    "...                                         'Versicolor',\n",
    "...                                         'Virginica'],\n",
    "...                            feature_names=['sepal length','sepal width ','petal length', \n",
    "...                                           'petal width'],\n",
    "...                            out_file=None) \n",
    ">>> graph = pydotplus.graph_from_dot_data(dot_data) \n",
    ">>> Image(graph.create_png())"
   ]
  },
  {
   "cell_type": "markdown",
   "metadata": {},
   "source": [
    "# Results\n",
    "\n",
    "1.The accuracies between two impurity types doesn't vary much in fitting the training data. However, while fitting the test data, gini impurity fits better compared to that of entropy impurity. As a result, we get more misclassifications in entropy's case.\n",
    "\n",
    "2.In case of gini impurity, the accuracy of training data keeps on increasing as we increase the depth of the decision tree I.e, the misclassifications reduces. However, the test accuracy is high if the depth of decisiontree is in range of 2 to 4 and less in 5 and 6 compared to train data.\n",
    "\n",
    "3.So, we can conclude that the data becomes overfit if we increase the depth of the decision tree in case of gini impurity. \n",
    "\n",
    "4.In case of entropy impurity also, the accuracy increases but increase rate is less compared to gini impurity. the test accuracy increases if we increase the depth of decisiontree.\n",
    "\n",
    "5.Here in this case, we can conclude that the data fits well if we increase the depth of decisiontree when impurity is entropy.\n",
    "\n",
    "6.The computation of entropy impurity  takes a little longer than that of  gini impurity. However, if the tree becomes complex then entropy performs better as compared to gini entropy."
   ]
  }
 ],
 "metadata": {
  "kernelspec": {
   "display_name": "Python 3",
   "language": "python",
   "name": "python3"
  },
  "language_info": {
   "codemirror_mode": {
    "name": "ipython",
    "version": 3
   },
   "file_extension": ".py",
   "mimetype": "text/x-python",
   "name": "python",
   "nbconvert_exporter": "python",
   "pygments_lexer": "ipython3",
   "version": "3.6.0"
  }
 },
 "nbformat": 4,
 "nbformat_minor": 2
}
