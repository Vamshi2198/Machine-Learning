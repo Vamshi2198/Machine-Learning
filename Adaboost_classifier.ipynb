{
 "cells": [
  {
   "cell_type": "code",
   "execution_count": 17,
   "metadata": {},
   "outputs": [
    {
     "name": "stdout",
     "output_type": "stream",
     "text": [
      "Class labels: [0 1 2]\n"
     ]
    }
   ],
   "source": [
    "# load datasets\n",
    ">>> from sklearn import datasets\n",
    ">>> import numpy as np\n",
    ">>> iris = datasets.load_iris()\n",
    ">>> X = iris.data[:, [0,1,2,3]]\n",
    ">>> y = iris.target\n",
    ">>> print('Class labels:', np.unique(y))"
   ]
  },
  {
   "cell_type": "code",
   "execution_count": 18,
   "metadata": {
    "collapsed": true
   },
   "outputs": [],
   "source": [
    "# splitting and standardizing the data\n",
    ">>> from sklearn.model_selection import train_test_split\n",
    ">>> X_train, X_test, y_train, y_test = train_test_split(X, y, test_size=0.3, random_state=1, stratify=y)\n",
    ">>> from sklearn.preprocessing import StandardScaler\n",
    ">>> sc = StandardScaler()\n",
    ">>> sc.fit(X_train)\n",
    ">>> X_train_std = sc.transform(X_train)\n",
    ">>> X_test_std = sc.transform(X_test)"
   ]
  },
  {
   "cell_type": "code",
   "execution_count": 19,
   "metadata": {},
   "outputs": [
    {
     "name": "stdout",
     "output_type": "stream",
     "text": [
      "train accuracy: 0.93\n",
      "test accuracy: 0.93\n",
      "[[35  0  0]\n",
      " [ 0 35  0]\n",
      " [ 0  7 28]]\n",
      "[[15  0  0]\n",
      " [ 0 15  0]\n",
      " [ 0  3 12]]\n"
     ]
    }
   ],
   "source": [
    "# creating Adaboost classifier and training the data\n",
    ">>> from sklearn.ensemble  import AdaBoostClassifier \n",
    ">>> ada = AdaBoostClassifier(n_estimators=500,learning_rate = 0.1, random_state=1)\n",
    ">>> ada.fit(X_train_std, y_train)\n",
    ">>> y_pred_1= ada.predict(X_train_std)\n",
    ">>> y_pred_2 = ada.predict(X_test_std)\n",
    ">>> from sklearn.metrics import accuracy_score\n",
    ">>> print('train accuracy: %.2f' % accuracy_score(y_train, y_pred_1))\n",
    ">>> print('test accuracy: %.2f' % accuracy_score(y_test,y_pred_2))\n",
    ">>> from sklearn.metrics import confusion_matrix\n",
    ">>> CM_1 = confusion_matrix(y_train,y_pred_1)\n",
    ">>> print(CM_1)\n",
    ">>> CM_2 = confusion_matrix(y_test,y_pred_2)\n",
    ">>> print(CM_2)"
   ]
  },
  {
   "cell_type": "code",
   "execution_count": 20,
   "metadata": {},
   "outputs": [
    {
     "name": "stdout",
     "output_type": "stream",
     "text": [
      "train accuracy: 0.93\n",
      "test accuracy: 0.93\n",
      "[[35  0  0]\n",
      " [ 0 35  0]\n",
      " [ 0  7 28]]\n",
      "[[15  0  0]\n",
      " [ 0 15  0]\n",
      " [ 0  3 12]]\n"
     ]
    }
   ],
   "source": [
    "# creating Adaboost classifier with Decision tree classifier at base with gini impurity and depth of 1  and training the data\n",
    ">>> from sklearn.tree import DecisionTreeClassifier\n",
    ">>> from sklearn.ensemble  import AdaBoostClassifier \n",
    ">>> tree = DecisionTreeClassifier(criterion='gini',max_depth = 1, random_state=1)\n",
    ">>> ada = AdaBoostClassifier(base_estimator = tree,n_estimators=500,learning_rate = 0.1, random_state=1)\n",
    ">>> ada.fit(X_train_std, y_train)\n",
    ">>> y_pred_1= ada.predict(X_train_std)\n",
    ">>> y_pred_2 = ada.predict(X_test_std)\n",
    ">>> from sklearn.metrics import accuracy_score\n",
    ">>> print('train accuracy: %.2f' % accuracy_score(y_train, y_pred_1))\n",
    ">>> print('test accuracy: %.2f' % accuracy_score(y_test,y_pred_2))\n",
    ">>> from sklearn.metrics import confusion_matrix\n",
    ">>> CM_1 = confusion_matrix(y_train,y_pred_1)\n",
    ">>> print(CM_1)\n",
    ">>> CM_2 = confusion_matrix(y_test,y_pred_2)\n",
    ">>> print(CM_2)"
   ]
  },
  {
   "cell_type": "code",
   "execution_count": 21,
   "metadata": {},
   "outputs": [
    {
     "name": "stdout",
     "output_type": "stream",
     "text": [
      "train accuracy: 1.00\n",
      "test accuracy: 0.93\n",
      "[[35  0  0]\n",
      " [ 0 35  0]\n",
      " [ 0  0 35]]\n",
      "[[15  0  0]\n",
      " [ 0 13  2]\n",
      " [ 0  1 14]]\n"
     ]
    }
   ],
   "source": [
    "# creating Adaboost classifier with Decision tree classifier at base with gini impurity and depth of 2 and training the data\n",
    ">>> from sklearn.tree import DecisionTreeClassifier\n",
    ">>> from sklearn.ensemble  import AdaBoostClassifier \n",
    ">>> tree = DecisionTreeClassifier(criterion='gini',max_depth = 2, random_state=1)\n",
    ">>> ada = AdaBoostClassifier(base_estimator = tree,n_estimators=500,learning_rate = 0.1, random_state=1)\n",
    ">>> ada.fit(X_train_std, y_train)\n",
    ">>> y_pred_1= ada.predict(X_train_std)\n",
    ">>> y_pred_2 = ada.predict(X_test_std)\n",
    ">>> from sklearn.metrics import accuracy_score\n",
    ">>> print('train accuracy: %.2f' % accuracy_score(y_train, y_pred_1))\n",
    ">>> print('test accuracy: %.2f' % accuracy_score(y_test,y_pred_2))\n",
    ">>> from sklearn.metrics import confusion_matrix\n",
    ">>> CM_1 = confusion_matrix(y_train,y_pred_1)\n",
    ">>> print(CM_1)\n",
    ">>> CM_2 = confusion_matrix(y_test,y_pred_2)\n",
    ">>> print(CM_2)"
   ]
  },
  {
   "cell_type": "code",
   "execution_count": 22,
   "metadata": {},
   "outputs": [
    {
     "name": "stdout",
     "output_type": "stream",
     "text": [
      "train accuracy: 1.00\n",
      "test accuracy: 0.93\n",
      "[[35  0  0]\n",
      " [ 0 35  0]\n",
      " [ 0  0 35]]\n",
      "[[15  0  0]\n",
      " [ 0 13  2]\n",
      " [ 0  1 14]]\n"
     ]
    }
   ],
   "source": [
    "# creating Adaboost classifier with Decision tree classifier at base with gini impurity and depth of 3 and training the data\n",
    ">>> from sklearn.tree import DecisionTreeClassifier\n",
    ">>> from sklearn.ensemble  import AdaBoostClassifier \n",
    ">>> tree = DecisionTreeClassifier(criterion='gini',max_depth = 3, random_state=1)\n",
    ">>> ada = AdaBoostClassifier(base_estimator = tree,n_estimators=500,learning_rate = 0.1, random_state=1)\n",
    ">>> ada.fit(X_train_std, y_train)\n",
    ">>> y_pred_1= ada.predict(X_train_std)\n",
    ">>> y_pred_2 = ada.predict(X_test_std)\n",
    ">>> from sklearn.metrics import accuracy_score\n",
    ">>> print('train accuracy: %.2f' % accuracy_score(y_train, y_pred_1))\n",
    ">>> print('test accuracy: %.2f' % accuracy_score(y_test,y_pred_2))\n",
    ">>> from sklearn.metrics import confusion_matrix\n",
    ">>> CM_1 = confusion_matrix(y_train,y_pred_1)\n",
    ">>> print(CM_1)\n",
    ">>> CM_2 = confusion_matrix(y_test,y_pred_2)\n",
    ">>> print(CM_2)"
   ]
  },
  {
   "cell_type": "code",
   "execution_count": 23,
   "metadata": {},
   "outputs": [
    {
     "name": "stdout",
     "output_type": "stream",
     "text": [
      "train accuracy: 1.00\n",
      "test accuracy: 0.96\n",
      "[[35  0  0]\n",
      " [ 0 35  0]\n",
      " [ 0  0 35]]\n",
      "[[15  0  0]\n",
      " [ 0 14  1]\n",
      " [ 0  1 14]]\n"
     ]
    }
   ],
   "source": [
    "# creating Adaboost classifier with Decision tree classifier at base with gini impurity and depth of 4 and training the data\n",
    ">>> from sklearn.tree import DecisionTreeClassifier\n",
    ">>> from sklearn.ensemble  import AdaBoostClassifier \n",
    ">>> tree = DecisionTreeClassifier(criterion='gini',max_depth = 4, random_state=1)\n",
    ">>> ada = AdaBoostClassifier(base_estimator = tree,n_estimators=500,learning_rate = 0.1, random_state=1)\n",
    ">>> ada.fit(X_train_std, y_train)\n",
    ">>> y_pred_1= ada.predict(X_train_std)\n",
    ">>> y_pred_2 = ada.predict(X_test_std)\n",
    ">>> from sklearn.metrics import accuracy_score\n",
    ">>> print('train accuracy: %.2f' % accuracy_score(y_train, y_pred_1))\n",
    ">>> print('test accuracy: %.2f' % accuracy_score(y_test,y_pred_2))\n",
    ">>> from sklearn.metrics import confusion_matrix\n",
    ">>> CM_1 = confusion_matrix(y_train,y_pred_1)\n",
    ">>> print(CM_1)\n",
    ">>> CM_2 = confusion_matrix(y_test,y_pred_2)\n",
    ">>> print(CM_2)"
   ]
  },
  {
   "cell_type": "code",
   "execution_count": 24,
   "metadata": {},
   "outputs": [
    {
     "name": "stdout",
     "output_type": "stream",
     "text": [
      "train accuracy: 1.00\n",
      "test accuracy: 0.98\n",
      "[[35  0  0]\n",
      " [ 0 35  0]\n",
      " [ 0  0 35]]\n",
      "[[15  0  0]\n",
      " [ 0 15  0]\n",
      " [ 0  1 14]]\n"
     ]
    }
   ],
   "source": [
    "# creating Adaboost classifier with Decision tree classifier at base with gini impurity and depth of 5 and training the data\n",
    ">>> from sklearn.tree import DecisionTreeClassifier\n",
    ">>> from sklearn.ensemble  import AdaBoostClassifier \n",
    ">>> tree = DecisionTreeClassifier(criterion='gini',max_depth = 5, random_state=1)\n",
    ">>> ada = AdaBoostClassifier(base_estimator = tree,n_estimators=500,learning_rate = 0.1, random_state=1)\n",
    ">>> ada.fit(X_train_std, y_train)\n",
    ">>> y_pred_1= ada.predict(X_train_std)\n",
    ">>> y_pred_2 = ada.predict(X_test_std)\n",
    ">>> from sklearn.metrics import accuracy_score\n",
    ">>> print('train accuracy: %.2f' % accuracy_score(y_train, y_pred_1))\n",
    ">>> print('test accuracy: %.2f' % accuracy_score(y_test,y_pred_2))\n",
    ">>> from sklearn.metrics import confusion_matrix\n",
    ">>> CM_1 = confusion_matrix(y_train,y_pred_1)\n",
    ">>> print(CM_1)\n",
    ">>> CM_2 = confusion_matrix(y_test,y_pred_2)\n",
    ">>> print(CM_2)"
   ]
  },
  {
   "cell_type": "code",
   "execution_count": 25,
   "metadata": {},
   "outputs": [
    {
     "name": "stdout",
     "output_type": "stream",
     "text": [
      "train accuracy: 1.00\n",
      "test accuracy: 0.98\n",
      "[[35  0  0]\n",
      " [ 0 35  0]\n",
      " [ 0  0 35]]\n",
      "[[15  0  0]\n",
      " [ 0 15  0]\n",
      " [ 0  1 14]]\n"
     ]
    }
   ],
   "source": [
    "# creating Adaboost classifier with Decision tree classifier at base with gini impurity and depth of 6 and training the data\n",
    ">>> from sklearn.tree import DecisionTreeClassifier\n",
    ">>> from sklearn.ensemble  import AdaBoostClassifier \n",
    ">>> tree = DecisionTreeClassifier(criterion='gini',max_depth = 6, random_state=1)\n",
    ">>> ada = AdaBoostClassifier(base_estimator = tree,n_estimators=500,learning_rate = 0.1, random_state=1)\n",
    ">>> ada.fit(X_train_std, y_train)\n",
    ">>> y_pred_1= ada.predict(X_train_std)\n",
    ">>> y_pred_2 = ada.predict(X_test_std)\n",
    ">>> from sklearn.metrics import accuracy_score\n",
    ">>> print('train accuracy: %.2f' % accuracy_score(y_train, y_pred_1))\n",
    ">>> print('test accuracy: %.2f' % accuracy_score(y_test,y_pred_2))\n",
    ">>> from sklearn.metrics import confusion_matrix\n",
    ">>> CM_1 = confusion_matrix(y_train,y_pred_1)\n",
    ">>> print(CM_1)\n",
    ">>> CM_2 = confusion_matrix(y_test,y_pred_2)\n",
    ">>> print(CM_2)"
   ]
  },
  {
   "cell_type": "code",
   "execution_count": 26,
   "metadata": {},
   "outputs": [
    {
     "name": "stdout",
     "output_type": "stream",
     "text": [
      "train accuracy: 0.93\n",
      "test accuracy: 0.93\n",
      "[[35  0  0]\n",
      " [ 0 35  0]\n",
      " [ 0  7 28]]\n",
      "[[15  0  0]\n",
      " [ 0 15  0]\n",
      " [ 0  3 12]]\n"
     ]
    }
   ],
   "source": [
    "# creating Adaboost classifier with Decision tree classifier at base with entropy impurity and depth of 1  and training the data\n",
    ">>> from sklearn.tree import DecisionTreeClassifier\n",
    ">>> from sklearn.ensemble  import AdaBoostClassifier \n",
    ">>> tree = DecisionTreeClassifier(criterion='entropy',max_depth = 1, random_state=1)\n",
    ">>> ada = AdaBoostClassifier(base_estimator = tree,n_estimators=500,learning_rate = 0.1, random_state=1)\n",
    ">>> ada.fit(X_train_std, y_train)\n",
    ">>> y_pred_1= ada.predict(X_train_std)\n",
    ">>> y_pred_2 = ada.predict(X_test_std)\n",
    ">>> from sklearn.metrics import accuracy_score\n",
    ">>> print('train accuracy: %.2f' % accuracy_score(y_train, y_pred_1))\n",
    ">>> print('test accuracy: %.2f' % accuracy_score(y_test,y_pred_2))\n",
    ">>> from sklearn.metrics import confusion_matrix\n",
    ">>> CM_1 = confusion_matrix(y_train,y_pred_1)\n",
    ">>> print(CM_1)\n",
    ">>> CM_2 = confusion_matrix(y_test,y_pred_2)\n",
    ">>> print(CM_2)"
   ]
  },
  {
   "cell_type": "code",
   "execution_count": 27,
   "metadata": {},
   "outputs": [
    {
     "name": "stdout",
     "output_type": "stream",
     "text": [
      "train accuracy: 1.00\n",
      "test accuracy: 0.96\n",
      "[[35  0  0]\n",
      " [ 0 35  0]\n",
      " [ 0  0 35]]\n",
      "[[15  0  0]\n",
      " [ 0 14  1]\n",
      " [ 0  1 14]]\n"
     ]
    }
   ],
   "source": [
    "# creating Adaboost classifier with Decision tree classifier at base with entropy impurity and depth of 2 and training the data\n",
    ">>> from sklearn.tree import DecisionTreeClassifier\n",
    ">>> from sklearn.ensemble  import AdaBoostClassifier \n",
    ">>> tree = DecisionTreeClassifier(criterion='entropy',max_depth = 2, random_state=1)\n",
    ">>> ada = AdaBoostClassifier(base_estimator = tree,n_estimators=500,learning_rate = 0.1, random_state=1)\n",
    ">>> ada.fit(X_train_std, y_train)\n",
    ">>> y_pred_1= ada.predict(X_train_std)\n",
    ">>> y_pred_2 = ada.predict(X_test_std)\n",
    ">>> from sklearn.metrics import accuracy_score\n",
    ">>> print('train accuracy: %.2f' % accuracy_score(y_train, y_pred_1))\n",
    ">>> print('test accuracy: %.2f' % accuracy_score(y_test,y_pred_2))\n",
    ">>> from sklearn.metrics import confusion_matrix\n",
    ">>> CM_1 = confusion_matrix(y_train,y_pred_1)\n",
    ">>> print(CM_1)\n",
    ">>> CM_2 = confusion_matrix(y_test,y_pred_2)\n",
    ">>> print(CM_2)"
   ]
  },
  {
   "cell_type": "code",
   "execution_count": 28,
   "metadata": {},
   "outputs": [
    {
     "name": "stdout",
     "output_type": "stream",
     "text": [
      "train accuracy: 1.00\n",
      "test accuracy: 0.96\n",
      "[[35  0  0]\n",
      " [ 0 35  0]\n",
      " [ 0  0 35]]\n",
      "[[15  0  0]\n",
      " [ 0 14  1]\n",
      " [ 0  1 14]]\n"
     ]
    }
   ],
   "source": [
    "# creating Adaboost classifier with Decision tree classifier at base with entropy impurity and depth of 3 and training the data\n",
    ">>> from sklearn.tree import DecisionTreeClassifier\n",
    ">>> from sklearn.ensemble  import AdaBoostClassifier \n",
    ">>> tree = DecisionTreeClassifier(criterion='entropy',max_depth = 3, random_state=1)\n",
    ">>> ada = AdaBoostClassifier(base_estimator = tree,n_estimators=500,learning_rate = 0.1, random_state=1)\n",
    ">>> ada.fit(X_train_std, y_train)\n",
    ">>> y_pred_1= ada.predict(X_train_std)\n",
    ">>> y_pred_2 = ada.predict(X_test_std)\n",
    ">>> from sklearn.metrics import accuracy_score\n",
    ">>> print('train accuracy: %.2f' % accuracy_score(y_train, y_pred_1))\n",
    ">>> print('test accuracy: %.2f' % accuracy_score(y_test,y_pred_2))\n",
    ">>> from sklearn.metrics import confusion_matrix\n",
    ">>> CM_1 = confusion_matrix(y_train,y_pred_1)\n",
    ">>> print(CM_1)\n",
    ">>> CM_2 = confusion_matrix(y_test,y_pred_2)\n",
    ">>> print(CM_2)"
   ]
  },
  {
   "cell_type": "code",
   "execution_count": 29,
   "metadata": {},
   "outputs": [
    {
     "name": "stdout",
     "output_type": "stream",
     "text": [
      "train accuracy: 1.00\n",
      "test accuracy: 0.98\n",
      "[[35  0  0]\n",
      " [ 0 35  0]\n",
      " [ 0  0 35]]\n",
      "[[15  0  0]\n",
      " [ 0 15  0]\n",
      " [ 0  1 14]]\n"
     ]
    }
   ],
   "source": [
    "# creating Adaboost classifier with Decision tree classifier at base with entropy impurity and depth of 4 and training the data\n",
    ">>> from sklearn.tree import DecisionTreeClassifier\n",
    ">>> from sklearn.ensemble  import AdaBoostClassifier \n",
    ">>> tree = DecisionTreeClassifier(criterion='entropy',max_depth = 4, random_state=1)\n",
    ">>> ada = AdaBoostClassifier(base_estimator = tree,n_estimators=500,learning_rate = 0.1, random_state=1)\n",
    ">>> ada.fit(X_train_std, y_train)\n",
    ">>> y_pred_1= ada.predict(X_train_std)\n",
    ">>> y_pred_2 = ada.predict(X_test_std)\n",
    ">>> from sklearn.metrics import accuracy_score\n",
    ">>> print('train accuracy: %.2f' % accuracy_score(y_train, y_pred_1))\n",
    ">>> print('test accuracy: %.2f' % accuracy_score(y_test,y_pred_2))\n",
    ">>> from sklearn.metrics import confusion_matrix\n",
    ">>> CM_1 = confusion_matrix(y_train,y_pred_1)\n",
    ">>> print(CM_1)\n",
    ">>> CM_2 = confusion_matrix(y_test,y_pred_2)\n",
    ">>> print(CM_2)"
   ]
  },
  {
   "cell_type": "code",
   "execution_count": 30,
   "metadata": {},
   "outputs": [
    {
     "name": "stdout",
     "output_type": "stream",
     "text": [
      "train accuracy: 1.00\n",
      "test accuracy: 0.98\n",
      "[[35  0  0]\n",
      " [ 0 35  0]\n",
      " [ 0  0 35]]\n",
      "[[15  0  0]\n",
      " [ 0 15  0]\n",
      " [ 0  1 14]]\n"
     ]
    }
   ],
   "source": [
    "# creating Adaboost classifier with Decision tree classifier at base with entropy impurity and depth of 5 and training the data\n",
    ">>> from sklearn.tree import DecisionTreeClassifier\n",
    ">>> from sklearn.ensemble  import AdaBoostClassifier \n",
    ">>> tree = DecisionTreeClassifier(criterion='entropy',max_depth = 5, random_state=1)\n",
    ">>> ada = AdaBoostClassifier(base_estimator = tree,n_estimators=500,learning_rate = 0.1, random_state=1)\n",
    ">>> ada.fit(X_train_std, y_train)\n",
    ">>> y_pred_1= ada.predict(X_train_std)\n",
    ">>> y_pred_2 = ada.predict(X_test_std)\n",
    ">>> from sklearn.metrics import accuracy_score\n",
    ">>> print('train accuracy: %.2f' % accuracy_score(y_train, y_pred_1))\n",
    ">>> print('test accuracy: %.2f' % accuracy_score(y_test,y_pred_2))\n",
    ">>> from sklearn.metrics import confusion_matrix\n",
    ">>> CM_1 = confusion_matrix(y_train,y_pred_1)\n",
    ">>> print(CM_1)\n",
    ">>> CM_2 = confusion_matrix(y_test,y_pred_2)\n",
    ">>> print(CM_2)"
   ]
  },
  {
   "cell_type": "code",
   "execution_count": 31,
   "metadata": {},
   "outputs": [
    {
     "name": "stdout",
     "output_type": "stream",
     "text": [
      "train accuracy: 1.00\n",
      "test accuracy: 0.96\n",
      "[[35  0  0]\n",
      " [ 0 35  0]\n",
      " [ 0  0 35]]\n",
      "[[15  0  0]\n",
      " [ 0 15  0]\n",
      " [ 0  2 13]]\n"
     ]
    }
   ],
   "source": [
    "# creating Adaboost classifier with Decision tree classifier at base with entropy impurity and depth of 6 and training the data\n",
    ">>> from sklearn.tree import DecisionTreeClassifier\n",
    ">>> from sklearn.ensemble  import AdaBoostClassifier \n",
    ">>> tree = DecisionTreeClassifier(criterion='entropy',max_depth = 6, random_state=1)\n",
    ">>> ada = AdaBoostClassifier(base_estimator = tree,n_estimators=500,learning_rate = 0.1, random_state=1)\n",
    ">>> ada.fit(X_train_std, y_train)\n",
    ">>> y_pred_1= ada.predict(X_train_std)\n",
    ">>> y_pred_2 = ada.predict(X_test_std)\n",
    ">>> from sklearn.metrics import accuracy_score\n",
    ">>> print('train accuracy: %.2f' % accuracy_score(y_train, y_pred_1))\n",
    ">>> print('test accuracy: %.2f' % accuracy_score(y_test,y_pred_2))\n",
    ">>> from sklearn.metrics import confusion_matrix\n",
    ">>> CM_1 = confusion_matrix(y_train,y_pred_1)\n",
    ">>> print(CM_1)\n",
    ">>> CM_2 = confusion_matrix(y_test,y_pred_2)\n",
    ">>> print(CM_2)"
   ]
  },
  {
   "cell_type": "markdown",
   "metadata": {
    "collapsed": true
   },
   "source": [
    "Comparision between Decision tree and adaboost classifiers\n",
    "\n",
    "1. In comparison with Decision tree classifier,the training accuracy of AdaBoost classifier is 100 in all the cases except in the case where the maximum depth of base classifier(Decision tree)is 1.This justifies the  key concept behind boosting which is to let the weak learners subsequently learn from misclassified training samples to improve the performance of the ensemble.\n",
    "2. The AdaBoost classifier fits the test data well even when the depth of the base classifier(Decision  tree -- gini impurity ) is 1. The test accuracy keeps on increasing as we increase the depth of the base classifier. However,the Adaboost classifier doesn't fit the test data well in the remaining cases where the depths range from 2 to 6 when compared to Decision tree classifier.\n",
    "3. Also, in case of the entropy impurity of the base classifier, the test accuracy is high when the depth is 1. However, the train accuracy doesn't increase steadily as we increase the depth of base classifier.\n",
    "4. In contrast with the gini impurity case, the test accuracy of AdaBoost classifier is almost similar to that of Decisiontree classifier in entropy impurity. \n",
    "5. As in almost all the cases, the test data doesn't fit effectively as the train data which leads to overfitting. This is because the base classifier we used turns out to be a complex one."
   ]
  }
 ],
 "metadata": {
  "kernelspec": {
   "display_name": "Python 3",
   "language": "python",
   "name": "python3"
  },
  "language_info": {
   "codemirror_mode": {
    "name": "ipython",
    "version": 3
   },
   "file_extension": ".py",
   "mimetype": "text/x-python",
   "name": "python",
   "nbconvert_exporter": "python",
   "pygments_lexer": "ipython3",
   "version": "3.6.0"
  }
 },
 "nbformat": 4,
 "nbformat_minor": 2
}
